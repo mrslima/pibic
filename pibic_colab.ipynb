{
  "nbformat": 4,
  "nbformat_minor": 0,
  "metadata": {
    "colab": {
      "provenance": [],
      "collapsed_sections": [
        "xwu6OMtFoVA2",
        "UPg0YvsLoZgZ",
        "vGWDSEEGobtN",
        "scQjUIPGodgz",
        "7WGYr5DNogru",
        "NDEWXMnYojGY",
        "QYNQ1EfYojKv",
        "XKVkMuGGojQU",
        "WxaUb8AJojTj",
        "idPjOkLrojW4",
        "SnjNQ6HVoxER",
        "A1yR5KUWoxG3"
      ]
    },
    "kernelspec": {
      "name": "python3",
      "display_name": "Python 3"
    },
    "language_info": {
      "name": "python"
    }
  },
  "cells": [
    {
      "cell_type": "markdown",
      "source": [
        "## CARREGANDO DATASET DO GITHUB"
      ],
      "metadata": {
        "id": "uqmFIDYWnQgr"
      }
    },
    {
      "cell_type": "code",
      "source": [
        "import zipfile\n",
        "\n",
        "!git clone https://github.com/andrehochuli/teaching.git\n",
        "!unzip /content/teaching/datasets/digits.zip"
      ],
      "metadata": {
        "id": "Pzi9TRXMkngh"
      },
      "execution_count": 3,
      "outputs": []
    },
    {
      "cell_type": "markdown",
      "source": [
        "# BIBLIOTECAS"
      ],
      "metadata": {
        "id": "Mxk91cjknZEB"
      }
    },
    {
      "cell_type": "code",
      "source": [
        "import numpy as np\n",
        "import pandas as pd\n",
        "import matplotlib.pyplot as plt\n",
        "import os\n",
        "import cv2\n",
        "import random\n",
        "import pickle\n",
        "from tqdm import tqdm\n",
        "\n",
        "from sklearn.metrics import classification_report, accuracy_score, plot_confusion_matrix\n",
        "from sklearn.neighbors import KNeighborsClassifier \n",
        "from sklearn.linear_model import LogisticRegression \n",
        "from sklearn.naive_bayes import MultinomialNB \n",
        "from sklearn.tree import DecisionTreeClassifier \n",
        "from sklearn.svm import SVC\n",
        "from sklearn.neural_network import MLPClassifier"
      ],
      "metadata": {
        "id": "b0gwtBWUkT2Z"
      },
      "execution_count": 7,
      "outputs": []
    },
    {
      "cell_type": "markdown",
      "source": [
        "# MONTANDO O DATASET"
      ],
      "metadata": {
        "id": "jtbKM3vgnjDq"
      }
    },
    {
      "cell_type": "code",
      "source": [
        "DATASET_DIRECTORY = '/content/digits'\n",
        "IMG_SIZE = 28"
      ],
      "metadata": {
        "id": "UEa16USFlJEr"
      },
      "execution_count": null,
      "outputs": []
    },
    {
      "cell_type": "markdown",
      "source": [
        "#### MONTANDO ARRAY DE LABELS BASEADO NO NOME DAS PASTAS"
      ],
      "metadata": {
        "id": "SImS43vHno0x"
      }
    },
    {
      "cell_type": "code",
      "source": [
        "LABELS = []\n",
        "\n",
        "for dir_name in range(len(os.listdir(DATASET_DIRECTORY))):\n",
        "    LABELS.append(os.listdir(DATASET_DIRECTORY)[dir_name])\n",
        "\n",
        "print(LABELS)"
      ],
      "metadata": {
        "id": "56i0Q19rlJLW"
      },
      "execution_count": null,
      "outputs": []
    },
    {
      "cell_type": "markdown",
      "source": [
        "#### MONTANDO ARRAY DE IMAGENS"
      ],
      "metadata": {
        "id": "hw6LdTOdnrNQ"
      }
    },
    {
      "cell_type": "code",
      "source": [
        "training_data = []\n",
        "\n",
        "def create_training_data():\n",
        "    for category in LABELS:\n",
        "\n",
        "        path = os.path.join(DATASET_DIRECTORY,category)\n",
        "        class_num = LABELS.index(category)\n",
        "\n",
        "        for img in tqdm(os.listdir(path)):\n",
        "            try:\n",
        "                img_array = cv2.imread(os.path.join(path,img) ,cv2.IMREAD_GRAYSCALE)\n",
        "                new_array = cv2.resize(img_array, (IMG_SIZE, IMG_SIZE))\n",
        "                training_data.append([new_array, class_num])\n",
        "            except Exception as e:\n",
        "                print(\"erro\")\n",
        "                pass\n",
        "\n",
        "create_training_data()\n",
        "\n",
        "print(len(training_data))"
      ],
      "metadata": {
        "id": "PKzAiN5GlJNy"
      },
      "execution_count": null,
      "outputs": []
    },
    {
      "cell_type": "markdown",
      "source": [
        "#### EMBARALHA OS DADOS [X, Y]"
      ],
      "metadata": {
        "id": "Cf4riGG1nuAj"
      }
    },
    {
      "cell_type": "code",
      "source": [
        "random.shuffle(training_data)"
      ],
      "metadata": {
        "id": "ghvRTEYdlJQD"
      },
      "execution_count": 25,
      "outputs": []
    },
    {
      "cell_type": "markdown",
      "source": [
        "#### SEPARANDO IMG E LABEL"
      ],
      "metadata": {
        "id": "rBb0NcRYnyla"
      }
    },
    {
      "cell_type": "code",
      "source": [
        "x = []\n",
        "y = []\n",
        "\n",
        "for features, label in training_data:\n",
        "    x.append(features)\n",
        "    y.append(label)\n",
        "\n",
        "x = np.array(x)\n",
        "x.shape\n",
        "# # print(type(x), type(y))"
      ],
      "metadata": {
        "colab": {
          "base_uri": "https://localhost:8080/"
        },
        "id": "FKgyiG3flJSM",
        "outputId": "d9466a77-b99c-454b-9751-03b84dae86ca"
      },
      "execution_count": 26,
      "outputs": [
        {
          "output_type": "execute_result",
          "data": {
            "text/plain": [
              "(70000, 28, 28)"
            ]
          },
          "metadata": {},
          "execution_count": 26
        }
      ]
    },
    {
      "cell_type": "markdown",
      "source": [
        "#### VISUALIZAÇÃO"
      ],
      "metadata": {
        "id": "jeAcxKJ_n1lH"
      }
    },
    {
      "cell_type": "code",
      "source": [
        "# print(\"Y:\", y[5000], \"\\nX:\")\n",
        "# plt.imshow(x[5000], cmap='gray')\n",
        "# plt.show()\n",
        "\n",
        "\n",
        "_, axes = plt.subplots(nrows=1, ncols=10, figsize=(16, 4))\n",
        "for ax, image, label in zip(axes, x, y):\n",
        "#     ax.set_axis_off()\n",
        "    ax.imshow(image, cmap=plt.cm.gray_r, interpolation='nearest')\n",
        "    ax.set_title('Training: %i' % label)"
      ],
      "metadata": {
        "colab": {
          "base_uri": "https://localhost:8080/",
          "height": 140
        },
        "id": "CscrtrGklJUf",
        "outputId": "02c238d5-4800-4aba-b0b2-b906bf037294"
      },
      "execution_count": 27,
      "outputs": [
        {
          "output_type": "display_data",
          "data": {
            "text/plain": [
              "<Figure size 1152x288 with 10 Axes>"
            ],
            "image/png": "[encoded data removed]"
          },
          "metadata": {
            "needs_background": "light"
          }
        }
      ]
    },
    {
      "cell_type": "markdown",
      "source": [
        "#### SALVAR DATASET"
      ],
      "metadata": {
        "id": "brOxwQ4In6fO"
      }
    },
    {
      "cell_type": "code",
      "source": [
        "pickle_out = open('x.pickle', 'wb')\n",
        "pickle.dump(x, pickle_out)\n",
        "pickle_out.close()\n",
        "\n",
        "pickle_out = open('y.pickle', 'wb')\n",
        "pickle.dump(y, pickle_out)\n",
        "pickle_out.close()"
      ],
      "metadata": {
        "id": "BjKNoAKolJW9"
      },
      "execution_count": 28,
      "outputs": []
    },
    {
      "cell_type": "markdown",
      "source": [
        "#### CARREGAR DATASET"
      ],
      "metadata": {
        "id": "v3J4Tx73n64P"
      }
    },
    {
      "cell_type": "code",
      "source": [
        "pickle_in = open('x.pickle', 'rb')\n",
        "x = pickle.load(pickle_in)"
      ],
      "metadata": {
        "id": "If3Pei0imUSq"
      },
      "execution_count": 29,
      "outputs": []
    },
    {
      "cell_type": "markdown",
      "source": [
        "#### FLATTENING"
      ],
      "metadata": {
        "id": "AL08_epMn7RY"
      }
    },
    {
      "cell_type": "code",
      "source": [
        "n_samples = len(x)\n",
        "data = x.reshape((n_samples, -1))\n",
        "\n",
        "pd.DataFrame(data)"
      ],
      "metadata": {
        "colab": {
          "base_uri": "https://localhost:8080/",
          "height": 424
        },
        "id": "LWgWFgfkmWS7",
        "outputId": "96944698-ee2d-434f-c17b-01111f5d768c"
      },
      "execution_count": 30,
      "outputs": [
        {
          "output_type": "execute_result",
          "data": {
            "text/plain": [
              "       0    1    2    3    4    5    6    7    8    9    ...  774  775  776  \\\n",
              "0        0    0    0    0    0    0    0    0    0    0  ...    0    0    0   \n",
              "1        0    0    0    0    0    0    0    0    0    0  ...    0    0    0   \n",
              "2        0    0    0    0    0    0    0    0    0    0  ...    0    0    0   \n",
              "3        0    0    0    0    0    0    0    0    0    0  ...    0    0    0   \n",
              "4        0    0    0    0    0    0    0    0    0    0  ...    0    0    0   \n",
              "...    ...  ...  ...  ...  ...  ...  ...  ...  ...  ...  ...  ...  ...  ...   \n",
              "69995    0    0    0    0    0    0    0    0    0    0  ...    0    0    0   \n",
              "69996    0    0    0    0    0    0    0    0    0    0  ...    0    0    0   \n",
              "69997    0    0    0    0    0    0    0    0    0    0  ...    0    0    0   \n",
              "69998    0    0    0    0    0    0    0    0    0    0  ...    0    0    0   \n",
              "69999    0    0    0    0    0    0    0    0    0    0  ...    0    0    0   \n",
              "\n",
              "       777  778  779  780  781  782  783  \n",
              "0        0    0    0    0    0    0    0  \n",
              "1        0    0    0    0    0    0    0  \n",
              "2        0    0    0    0    0    0    0  \n",
              "3        0    0    0    0    0    0    0  \n",
              "4        0    0    0    0    0    0    0  \n",
              "...    ...  ...  ...  ...  ...  ...  ...  \n",
              "69995    0    0    0    0    0    0    0  \n",
              "69996    0    0    0    0    0    0    0  \n",
              "69997    0    0    0    0    0    0    0  \n",
              "69998    0    0    0    0    0    0    0  \n",
              "69999    0    0    0    0    0    0    0  \n",
              "\n",
              "[70000 rows x 784 columns]"
            ],
            "text/html": [
              "\n",
              "  <div id=\"df-b0fe4580-d966-4df5-82d2-aab9a40643db\">\n",
              "    <div class=\"colab-df-container\">\n",
              "      <div>\n",
              "<style scoped>\n",
              "    .dataframe tbody tr th:only-of-type {\n",
              "        vertical-align: middle;\n",
              "    }\n",
              "\n",
              "    .dataframe tbody tr th {\n",
              "        vertical-align: top;\n",
              "    }\n",
              "\n",
              "    .dataframe thead th {\n",
              "        text-align: right;\n",
              "    }\n",
              "</style>\n",
              "<table border=\"1\" class=\"dataframe\">\n",
              "  <thead>\n",
              "    <tr style=\"text-align: right;\">\n",
              "      <th></th>\n",
              "      <th>0</th>\n",
              "      <th>1</th>\n",
              "      <th>2</th>\n",
              "      <th>3</th>\n",
              "      <th>4</th>\n",
              "      <th>5</th>\n",
              "      <th>6</th>\n",
              "      <th>7</th>\n",
              "      <th>8</th>\n",
              "      <th>9</th>\n",
              "      <th>...</th>\n",
              "      <th>774</th>\n",
              "      <th>775</th>\n",
              "      <th>776</th>\n",
              "      <th>777</th>\n",
              "      <th>778</th>\n",
              "      <th>779</th>\n",
              "      <th>780</th>\n",
              "      <th>781</th>\n",
              "      <th>782</th>\n",
              "      <th>783</th>\n",
              "    </tr>\n",
              "  </thead>\n",
              "  <tbody>\n",
              "    <tr>\n",
              "      <th>0</th>\n",
              "      <td>0</td>\n",
              "      <td>0</td>\n",
              "      <td>0</td>\n",
              "      <td>0</td>\n",
              "      <td>0</td>\n",
              "      <td>0</td>\n",
              "      <td>0</td>\n",
              "      <td>0</td>\n",
              "      <td>0</td>\n",
              "      <td>0</td>\n",
              "      <td>...</td>\n",
              "      <td>0</td>\n",
              "      <td>0</td>\n",
              "      <td>0</td>\n",
              "      <td>0</td>\n",
              "      <td>0</td>\n",
              "      <td>0</td>\n",
              "      <td>0</td>\n",
              "      <td>0</td>\n",
              "      <td>0</td>\n",
              "      <td>0</td>\n",
              "    </tr>\n",
              "    <tr>\n",
              "      <th>1</th>\n",
              "      <td>0</td>\n",
              "      <td>0</td>\n",
              "      <td>0</td>\n",
              "      <td>0</td>\n",
              "      <td>0</td>\n",
              "      <td>0</td>\n",
              "      <td>0</td>\n",
              "      <td>0</td>\n",
              "      <td>0</td>\n",
              "      <td>0</td>\n",
              "      <td>...</td>\n",
              "      <td>0</td>\n",
              "      <td>0</td>\n",
              "      <td>0</td>\n",
              "      <td>0</td>\n",
              "      <td>0</td>\n",
              "      <td>0</td>\n",
              "      <td>0</td>\n",
              "      <td>0</td>\n",
              "      <td>0</td>\n",
              "      <td>0</td>\n",
              "    </tr>\n",
              "    <tr>\n",
              "      <th>2</th>\n",
              "      <td>0</td>\n",
              "      <td>0</td>\n",
              "      <td>0</td>\n",
              "      <td>0</td>\n",
              "      <td>0</td>\n",
              "      <td>0</td>\n",
              "      <td>0</td>\n",
              "      <td>0</td>\n",
              "      <td>0</td>\n",
              "      <td>0</td>\n",
              "      <td>...</td>\n",
              "      <td>0</td>\n",
              "      <td>0</td>\n",
              "      <td>0</td>\n",
              "      <td>0</td>\n",
              "      <td>0</td>\n",
              "      <td>0</td>\n",
              "      <td>0</td>\n",
              "      <td>0</td>\n",
              "      <td>0</td>\n",
              "      <td>0</td>\n",
              "    </tr>\n",
              "    <tr>\n",
              "      <th>3</th>\n",
              "      <td>0</td>\n",
              "      <td>0</td>\n",
              "      <td>0</td>\n",
              "      <td>0</td>\n",
              "      <td>0</td>\n",
              "      <td>0</td>\n",
              "      <td>0</td>\n",
              "      <td>0</td>\n",
              "      <td>0</td>\n",
              "      <td>0</td>\n",
              "      <td>...</td>\n",
              "      <td>0</td>\n",
              "      <td>0</td>\n",
              "      <td>0</td>\n",
              "      <td>0</td>\n",
              "      <td>0</td>\n",
              "      <td>0</td>\n",
              "      <td>0</td>\n",
              "      <td>0</td>\n",
              "      <td>0</td>\n",
              "      <td>0</td>\n",
              "    </tr>\n",
              "    <tr>\n",
              "      <th>4</th>\n",
              "      <td>0</td>\n",
              "      <td>0</td>\n",
              "      <td>0</td>\n",
              "      <td>0</td>\n",
              "      <td>0</td>\n",
              "      <td>0</td>\n",
              "      <td>0</td>\n",
              "      <td>0</td>\n",
              "      <td>0</td>\n",
              "      <td>0</td>\n",
              "      <td>...</td>\n",
              "      <td>0</td>\n",
              "      <td>0</td>\n",
              "      <td>0</td>\n",
              "      <td>0</td>\n",
              "      <td>0</td>\n",
              "      <td>0</td>\n",
              "      <td>0</td>\n",
              "      <td>0</td>\n",
              "      <td>0</td>\n",
              "      <td>0</td>\n",
              "    </tr>\n",
              "    <tr>\n",
              "      <th>...</th>\n",
              "      <td>...</td>\n",
              "      <td>...</td>\n",
              "      <td>...</td>\n",
              "      <td>...</td>\n",
              "      <td>...</td>\n",
              "      <td>...</td>\n",
              "      <td>...</td>\n",
              "      <td>...</td>\n",
              "      <td>...</td>\n",
              "      <td>...</td>\n",
              "      <td>...</td>\n",
              "      <td>...</td>\n",
              "      <td>...</td>\n",
              "      <td>...</td>\n",
              "      <td>...</td>\n",
              "      <td>...</td>\n",
              "      <td>...</td>\n",
              "      <td>...</td>\n",
              "      <td>...</td>\n",
              "      <td>...</td>\n",
              "      <td>...</td>\n",
              "    </tr>\n",
              "    <tr>\n",
              "      <th>69995</th>\n",
              "      <td>0</td>\n",
              "      <td>0</td>\n",
              "      <td>0</td>\n",
              "      <td>0</td>\n",
              "      <td>0</td>\n",
              "      <td>0</td>\n",
              "      <td>0</td>\n",
              "      <td>0</td>\n",
              "      <td>0</td>\n",
              "      <td>0</td>\n",
              "      <td>...</td>\n",
              "      <td>0</td>\n",
              "      <td>0</td>\n",
              "      <td>0</td>\n",
              "      <td>0</td>\n",
              "      <td>0</td>\n",
              "      <td>0</td>\n",
              "      <td>0</td>\n",
              "      <td>0</td>\n",
              "      <td>0</td>\n",
              "      <td>0</td>\n",
              "    </tr>\n",
              "    <tr>\n",
              "      <th>69996</th>\n",
              "      <td>0</td>\n",
              "      <td>0</td>\n",
              "      <td>0</td>\n",
              "      <td>0</td>\n",
              "      <td>0</td>\n",
              "      <td>0</td>\n",
              "      <td>0</td>\n",
              "      <td>0</td>\n",
              "      <td>0</td>\n",
              "      <td>0</td>\n",
              "      <td>...</td>\n",
              "      <td>0</td>\n",
              "      <td>0</td>\n",
              "      <td>0</td>\n",
              "      <td>0</td>\n",
              "      <td>0</td>\n",
              "      <td>0</td>\n",
              "      <td>0</td>\n",
              "      <td>0</td>\n",
              "      <td>0</td>\n",
              "      <td>0</td>\n",
              "    </tr>\n",
              "    <tr>\n",
              "      <th>69997</th>\n",
              "      <td>0</td>\n",
              "      <td>0</td>\n",
              "      <td>0</td>\n",
              "      <td>0</td>\n",
              "      <td>0</td>\n",
              "      <td>0</td>\n",
              "      <td>0</td>\n",
              "      <td>0</td>\n",
              "      <td>0</td>\n",
              "      <td>0</td>\n",
              "      <td>...</td>\n",
              "      <td>0</td>\n",
              "      <td>0</td>\n",
              "      <td>0</td>\n",
              "      <td>0</td>\n",
              "      <td>0</td>\n",
              "      <td>0</td>\n",
              "      <td>0</td>\n",
              "      <td>0</td>\n",
              "      <td>0</td>\n",
              "      <td>0</td>\n",
              "    </tr>\n",
              "    <tr>\n",
              "      <th>69998</th>\n",
              "      <td>0</td>\n",
              "      <td>0</td>\n",
              "      <td>0</td>\n",
              "      <td>0</td>\n",
              "      <td>0</td>\n",
              "      <td>0</td>\n",
              "      <td>0</td>\n",
              "      <td>0</td>\n",
              "      <td>0</td>\n",
              "      <td>0</td>\n",
              "      <td>...</td>\n",
              "      <td>0</td>\n",
              "      <td>0</td>\n",
              "      <td>0</td>\n",
              "      <td>0</td>\n",
              "      <td>0</td>\n",
              "      <td>0</td>\n",
              "      <td>0</td>\n",
              "      <td>0</td>\n",
              "      <td>0</td>\n",
              "      <td>0</td>\n",
              "    </tr>\n",
              "    <tr>\n",
              "      <th>69999</th>\n",
              "      <td>0</td>\n",
              "      <td>0</td>\n",
              "      <td>0</td>\n",
              "      <td>0</td>\n",
              "      <td>0</td>\n",
              "      <td>0</td>\n",
              "      <td>0</td>\n",
              "      <td>0</td>\n",
              "      <td>0</td>\n",
              "      <td>0</td>\n",
              "      <td>...</td>\n",
              "      <td>0</td>\n",
              "      <td>0</td>\n",
              "      <td>0</td>\n",
              "      <td>0</td>\n",
              "      <td>0</td>\n",
              "      <td>0</td>\n",
              "      <td>0</td>\n",
              "      <td>0</td>\n",
              "      <td>0</td>\n",
              "      <td>0</td>\n",
              "    </tr>\n",
              "  </tbody>\n",
              "</table>\n",
              "<p>70000 rows × 784 columns</p>\n",
              "</div>\n",
              "      <button class=\"colab-df-convert\" onclick=\"convertToInteractive('df-b0fe4580-d966-4df5-82d2-aab9a40643db')\"\n",
              "              title=\"Convert this dataframe to an interactive table.\"\n",
              "              style=\"display:none;\">\n",
              "        \n",
              "  <svg xmlns=\"http://www.w3.org/2000/svg\" height=\"24px\"viewBox=\"0 0 24 24\"\n",
              "       width=\"24px\">\n",
              "    <path d=\"M0 0h24v24H0V0z\" fill=\"none\"/>\n",
              "    <path d=\"M18.56 5.44l.94 2.06.94-2.06 2.06-.94-2.06-.94-.94-2.06-.94 2.06-2.06.94zm-11 1L8.5 8.5l.94-2.06 2.06-.94-2.06-.94L8.5 2.5l-.94 2.06-2.06.94zm10 10l.94 2.06.94-2.06 2.06-.94-2.06-.94-.94-2.06-.94 2.06-2.06.94z\"/><path d=\"M17.41 7.96l-1.37-1.37c-.4-.4-.92-.59-1.43-.59-.52 0-1.04.2-1.43.59L10.3 9.45l-7.72 7.72c-.78.78-.78 2.05 0 2.83L4 21.41c.39.39.9.59 1.41.59.51 0 1.02-.2 1.41-.59l7.78-7.78 2.81-2.81c.8-.78.8-2.07 0-2.86zM5.41 20L4 18.59l7.72-7.72 1.47 1.35L5.41 20z\"/>\n",
              "  </svg>\n",
              "      </button>\n",
              "      \n",
              "  <style>\n",
              "    .colab-df-container {\n",
              "      display:flex;\n",
              "      flex-wrap:wrap;\n",
              "      gap: 12px;\n",
              "    }\n",
              "\n",
              "    .colab-df-convert {\n",
              "      background-color: #E8F0FE;\n",
              "      border: none;\n",
              "      border-radius: 50%;\n",
              "      cursor: pointer;\n",
              "      display: none;\n",
              "      fill: #1967D2;\n",
              "      height: 32px;\n",
              "      padding: 0 0 0 0;\n",
              "      width: 32px;\n",
              "    }\n",
              "\n",
              "    .colab-df-convert:hover {\n",
              "      background-color: #E2EBFA;\n",
              "      box-shadow: 0px 1px 2px rgba(60, 64, 67, 0.3), 0px 1px 3px 1px rgba(60, 64, 67, 0.15);\n",
              "      fill: #174EA6;\n",
              "    }\n",
              "\n",
              "    [theme=dark] .colab-df-convert {\n",
              "      background-color: #3B4455;\n",
              "      fill: #D2E3FC;\n",
              "    }\n",
              "\n",
              "    [theme=dark] .colab-df-convert:hover {\n",
              "      background-color: #434B5C;\n",
              "      box-shadow: 0px 1px 3px 1px rgba(0, 0, 0, 0.15);\n",
              "      filter: drop-shadow(0px 1px 2px rgba(0, 0, 0, 0.3));\n",
              "      fill: #FFFFFF;\n",
              "    }\n",
              "  </style>\n",
              "\n",
              "      <script>\n",
              "        const buttonEl =\n",
              "          document.querySelector('#df-b0fe4580-d966-4df5-82d2-aab9a40643db button.colab-df-convert');\n",
              "        buttonEl.style.display =\n",
              "          google.colab.kernel.accessAllowed ? 'block' : 'none';\n",
              "\n",
              "        async function convertToInteractive(key) {\n",
              "          const element = document.querySelector('#df-b0fe4580-d966-4df5-82d2-aab9a40643db');\n",
              "          const dataTable =\n",
              "            await google.colab.kernel.invokeFunction('convertToInteractive',\n",
              "                                                     [key], {});\n",
              "          if (!dataTable) return;\n",
              "\n",
              "          const docLinkHtml = 'Like what you see? Visit the ' +\n",
              "            '<a target=\"_blank\" href=https://colab.research.google.com/notebooks/data_table.ipynb>data table notebook</a>'\n",
              "            + ' to learn more about interactive tables.';\n",
              "          element.innerHTML = '';\n",
              "          dataTable['output_type'] = 'display_data';\n",
              "          await google.colab.output.renderOutput(dataTable, element);\n",
              "          const docLink = document.createElement('div');\n",
              "          docLink.innerHTML = docLinkHtml;\n",
              "          element.appendChild(docLink);\n",
              "        }\n",
              "      </script>\n",
              "    </div>\n",
              "  </div>\n",
              "  "
            ]
          },
          "metadata": {},
          "execution_count": 30
        }
      ]
    },
    {
      "cell_type": "markdown",
      "source": [
        "#### PROBLEMA COM O DESEMPACOTAMENTO DA FUNÇÃO TTS"
      ],
      "metadata": {
        "id": "IWYvmvNxn7x5"
      }
    },
    {
      "cell_type": "code",
      "source": [
        "y = np.array(y)\n",
        "y.shape\n",
        "y = y.reshape((n_samples, ))\n",
        "y"
      ],
      "metadata": {
        "colab": {
          "base_uri": "https://localhost:8080/"
        },
        "id": "Z9QMCk6gmWVQ",
        "outputId": "9798a00f-ed03-4c82-af5b-f7d75cfcca95"
      },
      "execution_count": 31,
      "outputs": [
        {
          "output_type": "execute_result",
          "data": {
            "text/plain": [
              "array([5, 1, 6, ..., 2, 7, 0])"
            ]
          },
          "metadata": {},
          "execution_count": 31
        }
      ]
    },
    {
      "cell_type": "code",
      "source": [
        "# 70K linhas (quantidade de img)\n",
        "# 784 colunas (28x28 - tamanho da img)\n",
        "\n",
        "print(\"Original:\", x.shape, \"\\nReshaped:\", data.shape)\n",
        "print(type(x), type(data))"
      ],
      "metadata": {
        "colab": {
          "base_uri": "https://localhost:8080/"
        },
        "id": "-hcfu5Y0mWZD",
        "outputId": "238b42a2-cbd3-4911-ff76-9c254fa74889"
      },
      "execution_count": 32,
      "outputs": [
        {
          "output_type": "stream",
          "name": "stdout",
          "text": [
            "Original: (70000, 28, 28) \n",
            "Reshaped: (70000, 784)\n",
            "<class 'numpy.ndarray'> <class 'numpy.ndarray'>\n"
          ]
        }
      ]
    },
    {
      "cell_type": "markdown",
      "source": [
        "### TRAIN TEST SPLIT FUNCTION"
      ],
      "metadata": {
        "id": "ZNaH3oV3n9Kn"
      }
    },
    {
      "cell_type": "code",
      "source": [
        "# 10k Teste\n",
        "# int(len(x)*.143)\n",
        "\n",
        "def TrainTestSplitter(x_values: np.ndarray, y_values: np.ndarray, test_size = .143):\n",
        "    try:\n",
        "        xy_concat_df = pd.concat([pd.DataFrame(x_values), pd.DataFrame(y_values)], axis = 1)  # junta x e y\n",
        "        slice_val = int(len(xy_concat_df) * test_size)  # corta os dados embaralhados\n",
        "        test_df, train_df = xy_concat_df[:slice_val], xy_concat_df[slice_val:]  # separa test (de 0 a 10k) e train (de 10k a 70k)\n",
        "\n",
        "        return train_df.iloc[:, :-1], train_df.iloc[:, -1:], test_df.iloc[:, :-1], test_df.iloc[:, -1:]\n",
        "        # train_x, train_y, test_x, test_y\n",
        "    \n",
        "    except:\n",
        "        print('Erro de data type!')\n",
        "        \n",
        "        \n",
        "\n",
        "# loc, iloc? https://medium.com/horadecodar/data-science-tips-02-como-usar-loc-e-iloc-no-pandas-fab58e214d87"
      ],
      "metadata": {
        "id": "KieNvK2jmWbq"
      },
      "execution_count": 33,
      "outputs": []
    },
    {
      "cell_type": "markdown",
      "source": [
        "#### SEPARANDO EM TRAIN E TEST"
      ],
      "metadata": {
        "id": "SjEsEUHBoRul"
      }
    },
    {
      "cell_type": "code",
      "source": [
        "train_x, train_y, test_x, test_y = TrainTestSplitter(data, y)"
      ],
      "metadata": {
        "id": "lrax-kuHmWeQ"
      },
      "execution_count": 34,
      "outputs": []
    },
    {
      "cell_type": "markdown",
      "source": [
        "#### PROBLEMA DE DIMENSÕES NO SVM"
      ],
      "metadata": {
        "id": "Wa3-XXucoTD_"
      }
    },
    {
      "cell_type": "code",
      "source": [
        "n_samples_train_y = len(train_y)\n",
        "\n",
        "train_y = np.array(train_y)\n",
        "train_y = train_y.reshape((n_samples_train_y, ))\n",
        "\n",
        "print(train_y, type(train_y))"
      ],
      "metadata": {
        "colab": {
          "base_uri": "https://localhost:8080/"
        },
        "id": "aBTJCCxWmWgm",
        "outputId": "d152bbce-ec37-4897-80a4-332d9b37d324"
      },
      "execution_count": 35,
      "outputs": [
        {
          "output_type": "stream",
          "name": "stdout",
          "text": [
            "[9 4 5 ... 2 7 0] <class 'numpy.ndarray'>\n"
          ]
        }
      ]
    },
    {
      "cell_type": "markdown",
      "source": [
        "# Support Vector Classification - SVC"
      ],
      "metadata": {
        "id": "xwu6OMtFoVA2"
      }
    },
    {
      "cell_type": "markdown",
      "source": [
        "#### CONSTRUÇÃO DO MODELO"
      ],
      "metadata": {
        "id": "UPg0YvsLoZgZ"
      }
    },
    {
      "cell_type": "code",
      "source": [
        "model_svm = SVC(gamma='auto')\n",
        "model_svm.fit(train_x, train_y)"
      ],
      "metadata": {
        "id": "Sj6-raUjmWi0"
      },
      "execution_count": null,
      "outputs": []
    },
    {
      "cell_type": "markdown",
      "source": [
        "#### PREDIÇÃO"
      ],
      "metadata": {
        "id": "vGWDSEEGobtN"
      }
    },
    {
      "cell_type": "code",
      "source": [
        "y_test_pred_svm = model_svm.predict(test_x)"
      ],
      "metadata": {
        "id": "STKxGmEXmWla"
      },
      "execution_count": null,
      "outputs": []
    },
    {
      "cell_type": "markdown",
      "source": [
        "#### VISUALIZAÇÃO DA PREDIÇÃO"
      ],
      "metadata": {
        "id": "scQjUIPGodgz"
      }
    },
    {
      "cell_type": "code",
      "source": [
        "_, axes = plt.subplots(nrows=1, ncols=10, figsize=(16, 4))\n",
        "for ax, image, actual, prediction in zip(axes, test_x, test_y, y_test_pred_svm):\n",
        "    ax.set_axis_off()\n",
        "    image = image.reshape(8, 8)\n",
        "    ax.imshow(image, cmap=plt.cm.gray_r, interpolation='nearest')\n",
        "    ax.set_title(f'Prediction: {prediction}\\n Actual: {actual}')"
      ],
      "metadata": {
        "id": "hW2oRxx_mWn0"
      },
      "execution_count": null,
      "outputs": []
    },
    {
      "cell_type": "markdown",
      "source": [
        "# DecisionTreeClassifier"
      ],
      "metadata": {
        "id": "7WGYr5DNogru"
      }
    },
    {
      "cell_type": "code",
      "source": [
        "model_dtc = DecisionTreeClassifier()\n",
        "model_dtc.fit(train_x, train_y)"
      ],
      "metadata": {
        "id": "f1EmdcEos7C8"
      },
      "execution_count": null,
      "outputs": []
    },
    {
      "cell_type": "code",
      "source": [
        "y_test_pred_dtc = model_dtc.predict(test_x)"
      ],
      "metadata": {
        "id": "bTloUCZbs7FC"
      },
      "execution_count": null,
      "outputs": []
    },
    {
      "cell_type": "code",
      "source": [
        "_, axes = plt.subplots(nrows=1, ncols=10, figsize=(16, 4))\n",
        "for ax, image, actual, prediction in zip(axes, test_x, test_y, y_test_pred_dtc):\n",
        "    ax.set_axis_off()\n",
        "    image = image.reshape(8, 8)\n",
        "    ax.imshow(image, cmap=plt.cm.gray_r, interpolation='nearest')\n",
        "    ax.set_title(f'Prediction: {prediction}\\n Actual: {actual}')"
      ],
      "metadata": {
        "id": "izSFX3MJs7HR"
      },
      "execution_count": null,
      "outputs": []
    },
    {
      "cell_type": "markdown",
      "source": [
        "# Logistic Regression"
      ],
      "metadata": {
        "id": "NDEWXMnYojGY"
      }
    },
    {
      "cell_type": "code",
      "source": [
        "model_lr = LogisticRegression()\n",
        "model_lr.fit(train_x, train_y)"
      ],
      "metadata": {
        "id": "FX4WbpdVw10m"
      },
      "execution_count": null,
      "outputs": []
    },
    {
      "cell_type": "code",
      "source": [
        "y_test_pred_lr = model_lr.predict(test_x[0].reshape(1,-1))"
      ],
      "metadata": {
        "id": "c0XX7HA3w12j"
      },
      "execution_count": null,
      "outputs": []
    },
    {
      "cell_type": "code",
      "source": [
        "_, axes = plt.subplots(nrows=1, ncols=10, figsize=(16, 4))\n",
        "for ax, image, actual, prediction in zip(axes, test_x, test_y, y_test_pred_lr):\n",
        "    ax.set_axis_off()\n",
        "    image = image.reshape(8, 8)\n",
        "    ax.imshow(image, cmap=plt.cm.gray_r, interpolation='nearest')\n",
        "    ax.set_title(f'Prediction: {prediction}\\n Actual: {actual}')"
      ],
      "metadata": {
        "id": "ypAdEUfHw148"
      },
      "execution_count": null,
      "outputs": []
    },
    {
      "cell_type": "markdown",
      "source": [
        "# KNeighbors Classifier"
      ],
      "metadata": {
        "id": "QYNQ1EfYojKv"
      }
    },
    {
      "cell_type": "code",
      "source": [
        "model_knc = KNeighborsClassifier(n_neighbors=3)\n",
        "model_knc.fit(train_x, train_y)"
      ],
      "metadata": {
        "id": "ADYL_nYnw4ZA"
      },
      "execution_count": null,
      "outputs": []
    },
    {
      "cell_type": "code",
      "source": [
        "y_test_pred_knc = model_knc.predict(test_x)"
      ],
      "metadata": {
        "id": "6F6e3VCKw4a_"
      },
      "execution_count": null,
      "outputs": []
    },
    {
      "cell_type": "code",
      "source": [
        "_, axes = plt.subplots(nrows=1, ncols=10, figsize=(16, 4))\n",
        "for ax, image, actual, prediction in zip(axes, test_x, test_y, y_test_pred_knc):\n",
        "    ax.set_axis_off()\n",
        "    image = image.reshape(8, 8)\n",
        "    ax.imshow(image, cmap=plt.cm.gray_r, interpolation='nearest')\n",
        "    ax.set_title(f'Prediction: {prediction}\\n Actual: {actual}')"
      ],
      "metadata": {
        "id": "m6p_Tno7w4dD"
      },
      "execution_count": null,
      "outputs": []
    },
    {
      "cell_type": "markdown",
      "source": [
        "# MultinomialNB"
      ],
      "metadata": {
        "id": "XKVkMuGGojQU"
      }
    },
    {
      "cell_type": "code",
      "source": [
        "model_mnb = MultinomialNB()\n",
        "model_mnb.fit(train_x, train_y)"
      ],
      "metadata": {
        "id": "g0L-ae_7w75D"
      },
      "execution_count": null,
      "outputs": []
    },
    {
      "cell_type": "code",
      "source": [
        "y_test_pred_mnb = model_mnb.predict(test_x)"
      ],
      "metadata": {
        "id": "bsbMCcH9w77R"
      },
      "execution_count": null,
      "outputs": []
    },
    {
      "cell_type": "code",
      "source": [
        "_, axes = plt.subplots(nrows=1, ncols=10, figsize=(16, 4))\n",
        "for ax, image, actual, prediction in zip(axes, test_x, test_y, y_test_pred_mnb):\n",
        "    ax.set_axis_off()\n",
        "    image = image.reshape(8, 8)\n",
        "    ax.imshow(image, cmap=plt.cm.gray_r, interpolation='nearest')\n",
        "    ax.set_title(f'Prediction: {prediction}\\n Actual: {actual}')"
      ],
      "metadata": {
        "id": "U08iHnAyw798"
      },
      "execution_count": null,
      "outputs": []
    },
    {
      "cell_type": "markdown",
      "source": [
        "# MLP Classifier"
      ],
      "metadata": {
        "id": "WxaUb8AJojTj"
      }
    },
    {
      "cell_type": "code",
      "source": [
        "model_mlpc = MLPClassifier()\n",
        "model_mlpc.fit(train_x, train_y)"
      ],
      "metadata": {
        "id": "vE7Ld32QxCwS"
      },
      "execution_count": null,
      "outputs": []
    },
    {
      "cell_type": "code",
      "source": [
        "y_test_pred_mlpc = model_mlpc.predict(test_x)"
      ],
      "metadata": {
        "id": "rAUsssHXxCyV"
      },
      "execution_count": null,
      "outputs": []
    },
    {
      "cell_type": "code",
      "source": [
        "_, axes = plt.subplots(nrows=1, ncols=10, figsize=(16, 4))\n",
        "for ax, image, actual, prediction in zip(axes, test_x, test_y, y_test_pred_mlpc):\n",
        "    ax.set_axis_off()\n",
        "    image = image.reshape(8, 8)\n",
        "    ax.imshow(image, cmap=plt.cm.gray_r, interpolation='nearest')\n",
        "    ax.set_title(f'Prediction: {prediction}\\n Actual: {actual}')"
      ],
      "metadata": {
        "id": "J-d_TBUWxC1D"
      },
      "execution_count": null,
      "outputs": []
    },
    {
      "cell_type": "markdown",
      "source": [
        "----"
      ],
      "metadata": {
        "id": "qNROy_QHo7jY"
      }
    },
    {
      "cell_type": "markdown",
      "source": [
        "# Acurácia"
      ],
      "metadata": {
        "id": "idPjOkLrojW4"
      }
    },
    {
      "cell_type": "code",
      "source": [
        "accuracy_svm = accuracy_score(test_y, y_test_pred_svm)\n",
        "accuracy_dtc = accuracy_score(test_y, y_test_pred_dtc)\n",
        "accuracy_lr = accuracy_score(test_y, y_test_pred_lr)\n",
        "accuracy_knc = accuracy_score(test_y, y_test_pred_knc)\n",
        "accuracy_mlpc = accuracy_score(test_y, y_test_pred_mlpc)\n",
        "accuracy_mnb = accuracy_score(test_y, y_test_pred_mnb)\n",
        "\n",
        "print('Accuracy (SVC): ', round(accuracy_svm, 3) )\n",
        "print('Accuracy (Decision Tree Classifier): ', round(y_test_pred_dtc, 3) )\n",
        "print('Accuracy (Logistic Regression) ', round(y_test_pred_lr, 3) )\n",
        "print('Accuracy (KNeighbors Classifier): ', round(y_test_pred_knc, 3) )\n",
        "print('Accuracy (MLP Classifier): ', round(y_test_pred_mlpc, 3) )\n",
        "print('Accuracy (Multinomial NB): ', round(y_test_pred_mnb, 3) )"
      ],
      "metadata": {
        "id": "cx9vbqEus_Fz"
      },
      "execution_count": null,
      "outputs": []
    },
    {
      "cell_type": "markdown",
      "source": [
        "# MATRIZ DE CONFUSÃO"
      ],
      "metadata": {
        "id": "SnjNQ6HVoxER"
      }
    },
    {
      "cell_type": "code",
      "source": [
        "svm_cm = plot_confusion_matrix(model_svm, test_x, test_y)\n",
        "svm_cm.figure_.suptitle(\"Confusion Matrix SVC\")\n",
        "print(f\"Confusion matrix SVC:\\n{svm_cm.confusion_matrix}\")\n",
        "plt.show()\n",
        "\n",
        "svm_cm = plot_confusion_matrix(model_dtc, test_x, test_y)\n",
        "svm_cm.figure_.suptitle(\"Confusion Matrix DecisionTreeClassifier\")\n",
        "print(f\"Confusion matrix DecisionTreeClassifier:\\n{svm_cm.confusion_matrix}\")\n",
        "plt.show()\n",
        "\n",
        "svm_cm = plot_confusion_matrix(model_lr, test_x, test_y)\n",
        "svm_cm.figure_.suptitle(\"Confusion Matrix LogisticRegression\")\n",
        "print(f\"Confusion matrix LogisticRegression:\\n{svm_cm.confusion_matrix}\")\n",
        "plt.show()\n",
        "\n",
        "svm_cm = plot_confusion_matrix(model_knc, test_x, test_y)\n",
        "svm_cm.figure_.suptitle(\"Confusion Matrix KNeighborsClassifier\")\n",
        "print(f\"Confusion matrix KNeighborsClassifier:\\n{svm_cm.confusion_matrix}\")\n",
        "plt.show()\n",
        "\n",
        "svm_cm = plot_confusion_matrix(model_mlpc, test_x, test_y)\n",
        "svm_cm.figure_.suptitle(\"Confusion Matrix MLPClassifier\")\n",
        "print(f\"Confusion matrix MLPClassifier:\\n{svm_cm.confusion_matrix}\")\n",
        "plt.show()\n",
        "\n",
        "svm_cm = plot_confusion_matrix(model_mnb, test_x, test_y)\n",
        "svm_cm.figure_.suptitle(\"Confusion Matrix MultinomialNB\")\n",
        "print(f\"Confusion matrix MultinomialNB:\\n{svm_cm.confusion_matrix}\")\n",
        "plt.show()\n"
      ],
      "metadata": {
        "id": "X4qsCdbmtAuD"
      },
      "execution_count": null,
      "outputs": []
    },
    {
      "cell_type": "markdown",
      "source": [
        "# CLASSIFICATION REPORT"
      ],
      "metadata": {
        "id": "A1yR5KUWoxG3"
      }
    },
    {
      "cell_type": "code",
      "source": [
        "print(\"SVM\\n\", classification_report(y, y_test_pred_svm, target_names=LABELS))\n",
        "print(\"DecisionTreeClassifier\\n\", classification_report(y, y_test_pred_dtc, target_names=LABELS))\n",
        "print(\"LogisticRegression\\n\", classification_report(y, y_test_pred_lr, target_names=LABELS))\n",
        "print(\"KNeighborsClassifier\\n\", classification_report(y, y_test_pred_knc, target_names=LABELS))\n",
        "print(\"MLPClassifier\\n\", classification_report(y, y_test_pred_mlpc, target_names=LABELS))\n",
        "print(\"MultinomialNB\\n\", classification_report(y, y_test_pred_mnb, target_names=LABELS))"
      ],
      "metadata": {
        "id": "R6g9G4dJtEIv"
      },
      "execution_count": null,
      "outputs": []
    },
    {
      "cell_type": "markdown",
      "source": [
        "----"
      ],
      "metadata": {
        "id": "6ccZGVyYo5R5"
      }
    },
    {
      "cell_type": "markdown",
      "source": [
        "# ANOTAÇÕES"
      ],
      "metadata": {
        "id": "PYn3Xg7MoxQ9"
      }
    },
    {
      "cell_type": "markdown",
      "source": [
        "DEFINE, FIT, PREDICT, EVALUATE\n",
        "\n",
        "# LOGISTIC REGRESSION\n",
        "\n",
        "Classificação Binária\n",
        "\n",
        "ROC - Receiver Operating Characeristic\n",
        "AUC - Area Under Curve\n",
        "\n",
        "Curva ROC\n",
        "Compara diferentes modelos para diferentes thresholds (limites/limiar)\n",
        "\n",
        "(recall, specificity)\n",
        "\n",
        "\n",
        "# SVM SVC\n",
        "https://www.youtube.com/watch?v=_YPScrckx28\n",
        "\n",
        "# MATIZ DE CONFUSÃO\n",
        "\n",
        "https://www.youtube.com/watch?v=vNpD7ctJlvA\n",
        "https://www.youtube.com/watch?v=vS6bQy45rdE\n",
        "\n",
        "acurácia = tp + tn / tp + tn + fp + fn\n",
        "precisão = tp / tp + fp\n",
        "true positive rate | Recall = tp / tp + fn\n",
        "true negative rate | Specificity = tn / tn + fp\n",
        "f1 = 2 / (1/precisão + 1/recall)\n",
        "\n",
        "https://scikit-learn.org/stable/modules/generated/sklearn.metrics.classification_report.html\n"
      ],
      "metadata": {
        "id": "9lfab1m9pBFe"
      }
    }
  ]
}